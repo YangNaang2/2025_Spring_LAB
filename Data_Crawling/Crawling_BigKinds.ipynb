{
 "cells": [
  {
   "cell_type": "code",
   "execution_count": 43,
   "metadata": {},
   "outputs": [],
   "source": [
    "import time\n",
    "import pyautogui\n",
    "import pyperclip\n",
    "import cv2"
   ]
  },
  {
   "cell_type": "code",
   "execution_count": 44,
   "metadata": {},
   "outputs": [
    {
     "name": "stdout",
     "output_type": "stream",
     "text": [
      "Point(x=1467, y=477)\n"
     ]
    }
   ],
   "source": [
    "time.sleep(2)\n",
    "print(pyautogui.position())"
   ]
  },
  {
   "cell_type": "code",
   "execution_count": 45,
   "metadata": {},
   "outputs": [],
   "source": [
    "def imgClick(filename, t):\n",
    "    #filename에 test.png와 같이 이미지 파일을 입력하면 클릭하고, t초를 대기하는 함수\n",
    "    imgfile = pyautogui.locateOnScreen(filename, confidence=0.9)\n",
    "    center = pyautogui.center(imgfile)\n",
    "    pyautogui.moveTo(center)\n",
    "    pyautogui.click(center)\n",
    "    time.sleep(t)"
   ]
  },
  {
   "cell_type": "code",
   "execution_count": 46,
   "metadata": {},
   "outputs": [],
   "source": [
    "def scroll(line):\n",
    "    #아래로 스크롤: -\n",
    "    #위로 스크롤: +\n",
    "    time.sleep(0.5)\n",
    "    pyautogui.scroll(line)\n",
    "    time.sleep(0.5)"
   ]
  },
  {
   "cell_type": "code",
   "execution_count": 47,
   "metadata": {},
   "outputs": [],
   "source": [
    "keywords = [\"(배당)AND(삼성전자)\", \"(배당)AND(카카오)\"]"
   ]
  },
  {
   "cell_type": "code",
   "execution_count": null,
   "metadata": {},
   "outputs": [],
   "source": [
    "time.sleep(1)\n",
    "\n",
    "for keyword in keywords:\n",
    "    #1. 검색어 창을 클릭해서 입력하게하기\n",
    "    imgClick(\"search_bar.png\", 0.2)\n",
    "    pyautogui.hotkey('ctrl', 'a')\n",
    "    pyautogui.press('delete')\n",
    "    pyperclip.copy(keyword)\n",
    "    pyautogui.hotkey('ctrl', 'v')\n",
    "    \n",
    "    #2. 스크롤 내려서 검색버튼 클릭\n",
    "    while True:\n",
    "        try:\n",
    "            imgClick('search_btn.png', 5)\n",
    "            break\n",
    "        except:\n",
    "            scroll(-300)\n",
    "            \n",
    "    #3. 검색 후 스크롤 내려서 스텝3 탭을 클릭\n",
    "    while True:\n",
    "        try:\n",
    "            imgClick('step3.png', 3)\n",
    "            break\n",
    "        except:\n",
    "            scroll(-300)\n",
    "            \n",
    "    #4.목록이 열리면 엑셀 다운로드 버튼 클릭\n",
    "    while True:\n",
    "        try:\n",
    "            imgClick('excel.png', 3)\n",
    "            break\n",
    "        except:\n",
    "            scroll(-300)\n",
    "            \n",
    "    #5. 다운로드 창 닫고 브라우저 초기화\n",
    "    while True:\n",
    "        try:\n",
    "            imgClick('x.png', 0.1)\n",
    "            break\n",
    "        except:\n",
    "            time.sleep(1)\n",
    "    pyautogui.press('home')\n",
    "    time.sleep(1)\n",
    "    imgClick('step1.png', 0.1)\n",
    "    \n",
    "    #6. 저장할 파일명을 만들기\n",
    "    company = keyword.replace(\"(배당)AND(\", \"\")\n",
    "    company = company.replace(\")\", \"\")\n",
    "    filename = \"배당_\"+company\n",
    "    \n",
    "    #7. 저장할 파일명 변경\n",
    "    imgClick('date.png', 0.2)\n",
    "    imgClick('date.png', 0.2)\n",
    "    \n",
    "    imgClick('oldname.png', 1)\n",
    "    xy = pyautogui.position()\n",
    "    pyautogui.click(xy)\n",
    "    time.sleep(1)\n",
    "    pyautogui.press('delete')\n",
    "    pyperclip.copy(filename)\n",
    "    pyautogui.hotkey('ctrl', 'v')\n",
    "    pyautogui.hotkey('enter')"
   ]
  }
 ],
 "metadata": {
  "kernelspec": {
   "display_name": "mainstudy",
   "language": "python",
   "name": "python3"
  },
  "language_info": {
   "codemirror_mode": {
    "name": "ipython",
    "version": 3
   },
   "file_extension": ".py",
   "mimetype": "text/x-python",
   "name": "python",
   "nbconvert_exporter": "python",
   "pygments_lexer": "ipython3",
   "version": "3.8.20"
  }
 },
 "nbformat": 4,
 "nbformat_minor": 2
}
